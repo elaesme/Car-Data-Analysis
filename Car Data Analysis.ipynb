{
 "cells": [
  {
   "cell_type": "markdown",
   "metadata": {},
   "source": [
    "## Rating and Review Analysis of Car Brands Project \n",
    "\n",
    "Author: Sabriye Ela Esme\n",
    "\n",
    "This notebook includes the codes for analyzing rating score and review score of different brands of cars according to 'Edmunds-Consumer Car Ratings and Reviews' data retrieved from https://www.kaggle.com/ankkur13/edmundsconsumer-car-ratings-and-reviews.\n",
    "\n",
    "Firstly, for every brand, the data converted into a dataframe, and from that dataframe, the ratings given to the cars of the brand (between 0-5) summed up and divided by the number of reviews to get an average rating score. Let's start with Porsche."
   ]
  },
  {
   "cell_type": "code",
   "execution_count": 65,
   "metadata": {},
   "outputs": [],
   "source": [
    "import pandas as pd\n",
    "import numpy as np\n",
    "lst=[]\n",
    "\n",
    "data = pd.read_csv('C:\\\\Users\\\\Ela\\\\Desktop\\\\Cars_review_project\\\\Scraped_Car_Review_porsche.csv', lineterminator='\\n')\n",
    "brand0= 'Porsche'"
   ]
  },
  {
   "cell_type": "markdown",
   "metadata": {},
   "source": [
    "Here's a glimpse of dataframe of Porsche."
   ]
  },
  {
   "cell_type": "code",
   "execution_count": 66,
   "metadata": {
    "scrolled": true
   },
   "outputs": [
    {
     "data": {
      "text/html": [
       "<div>\n",
       "<style scoped>\n",
       "    .dataframe tbody tr th:only-of-type {\n",
       "        vertical-align: middle;\n",
       "    }\n",
       "\n",
       "    .dataframe tbody tr th {\n",
       "        vertical-align: top;\n",
       "    }\n",
       "\n",
       "    .dataframe thead th {\n",
       "        text-align: right;\n",
       "    }\n",
       "</style>\n",
       "<table border=\"1\" class=\"dataframe\">\n",
       "  <thead>\n",
       "    <tr style=\"text-align: right;\">\n",
       "      <th></th>\n",
       "      <th>Unnamed: 0</th>\n",
       "      <th>Review_Date</th>\n",
       "      <th>Author_Name</th>\n",
       "      <th>Vehicle_Title</th>\n",
       "      <th>Review_Title</th>\n",
       "      <th>Review</th>\n",
       "      <th>Rating\\r</th>\n",
       "    </tr>\n",
       "  </thead>\n",
       "  <tbody>\n",
       "    <tr>\n",
       "      <td>0</td>\n",
       "      <td>0</td>\n",
       "      <td>on 08/28/18 13:31 PM (PDT)</td>\n",
       "      <td>Chris</td>\n",
       "      <td>2015 Porsche Macan SUV Turbo 4dr SUV AWD (3.6L...</td>\n",
       "      <td>Porsche Macan is a Beast</td>\n",
       "      <td>I owned a Porsche Cayenne for two years and e...</td>\n",
       "      <td>5.0</td>\n",
       "    </tr>\n",
       "    <tr>\n",
       "      <td>1</td>\n",
       "      <td>1</td>\n",
       "      <td>on 06/17/18 17:30 PM (PDT)</td>\n",
       "      <td>Phil Fair</td>\n",
       "      <td>2015 Porsche Macan SUV S 4dr SUV AWD (3.0L 6cy...</td>\n",
       "      <td>Outstanding ride!</td>\n",
       "      <td>Love my 2015 Porsche Macan S SUV, but please ...</td>\n",
       "      <td>5.0</td>\n",
       "    </tr>\n",
       "    <tr>\n",
       "      <td>2</td>\n",
       "      <td>2</td>\n",
       "      <td>on 05/16/18 11:27 AM (PDT)</td>\n",
       "      <td>Steven</td>\n",
       "      <td>2015 Porsche Macan SUV S 4dr SUV AWD (3.0L 6cy...</td>\n",
       "      <td>Pretty and comfy</td>\n",
       "      <td>Great looking vehicle with the most comfortab...</td>\n",
       "      <td>4.0</td>\n",
       "    </tr>\n",
       "    <tr>\n",
       "      <td>3</td>\n",
       "      <td>3</td>\n",
       "      <td>on 05/15/18 19:22 PM (PDT)</td>\n",
       "      <td>Zw</td>\n",
       "      <td>2015 Porsche Macan SUV S 4dr SUV AWD (3.0L 6cy...</td>\n",
       "      <td>Once you've gone Porsche, it's hard to go back</td>\n",
       "      <td>Crossover that drives like a Porsche- I outgr...</td>\n",
       "      <td>5.0</td>\n",
       "    </tr>\n",
       "    <tr>\n",
       "      <td>4</td>\n",
       "      <td>4</td>\n",
       "      <td>on 11/11/17 07:20 AM (PST)</td>\n",
       "      <td>george toccalino</td>\n",
       "      <td>2015 Porsche Macan SUV Turbo 4dr SUV AWD (3.6L...</td>\n",
       "      <td>The 911 SUV</td>\n",
       "      <td>Fun to drive SUV:very close to handling like ...</td>\n",
       "      <td>5.0</td>\n",
       "    </tr>\n",
       "  </tbody>\n",
       "</table>\n",
       "</div>"
      ],
      "text/plain": [
       "   Unnamed: 0                  Review_Date        Author_Name  \\\n",
       "0           0   on 08/28/18 13:31 PM (PDT)             Chris    \n",
       "1           1   on 06/17/18 17:30 PM (PDT)         Phil Fair    \n",
       "2           2   on 05/16/18 11:27 AM (PDT)            Steven    \n",
       "3           3   on 05/15/18 19:22 PM (PDT)                Zw    \n",
       "4           4   on 11/11/17 07:20 AM (PST)  george toccalino    \n",
       "\n",
       "                                       Vehicle_Title  \\\n",
       "0  2015 Porsche Macan SUV Turbo 4dr SUV AWD (3.6L...   \n",
       "1  2015 Porsche Macan SUV S 4dr SUV AWD (3.0L 6cy...   \n",
       "2  2015 Porsche Macan SUV S 4dr SUV AWD (3.0L 6cy...   \n",
       "3  2015 Porsche Macan SUV S 4dr SUV AWD (3.0L 6cy...   \n",
       "4  2015 Porsche Macan SUV Turbo 4dr SUV AWD (3.6L...   \n",
       "\n",
       "                                     Review_Title  \\\n",
       "0                        Porsche Macan is a Beast   \n",
       "1                               Outstanding ride!   \n",
       "2                                Pretty and comfy   \n",
       "3  Once you've gone Porsche, it's hard to go back   \n",
       "4                                     The 911 SUV   \n",
       "\n",
       "                                              Review  Rating\\r  \n",
       "0   I owned a Porsche Cayenne for two years and e...       5.0  \n",
       "1   Love my 2015 Porsche Macan S SUV, but please ...       5.0  \n",
       "2   Great looking vehicle with the most comfortab...       4.0  \n",
       "3   Crossover that drives like a Porsche- I outgr...       5.0  \n",
       "4   Fun to drive SUV:very close to handling like ...       5.0  "
      ]
     },
     "execution_count": 66,
     "metadata": {},
     "output_type": "execute_result"
    }
   ],
   "source": [
    "data.head()"
   ]
  },
  {
   "cell_type": "code",
   "execution_count": 67,
   "metadata": {
    "scrolled": true
   },
   "outputs": [],
   "source": [
    "score0=sum(data['Rating\\r'])/data.shape[0]\n",
    "lst.append([brand0, score0])"
   ]
  },
  {
   "cell_type": "markdown",
   "metadata": {},
   "source": [
    "## Calculation of the score for other brands"
   ]
  },
  {
   "cell_type": "code",
   "execution_count": 68,
   "metadata": {},
   "outputs": [],
   "source": [
    "#Calculation of the score for other brands\n",
    "data1 = pd.read_csv('C://Users//Ela//Desktop//Cars_review_project//Scrapped_Car_Reviews_Audi.csv', lineterminator='\\n')\n",
    "brand1= 'Audi'\n",
    "score1=sum(data1['Rating\\r'])/data1.shape[0]\n",
    "lst.append([brand1, score1])\n",
    "\n",
    "data2 = pd.read_csv('C://Users//Ela//Desktop//Cars_review_project//Scrapped_Car_Reviews_BMW.csv', lineterminator='\\n')\n",
    "brand2= 'BMW'\n",
    "score2=sum(data2['Rating\\r'])/data2.shape[0]\n",
    "lst.append([brand2, score2])\n",
    "\n",
    "data3 = pd.read_csv('C:\\\\Users\\\\Ela\\\\Desktop\\\\Cars_review_project\\\\Scraped_Car_Review_mercedes-benz.csv', lineterminator='\\n')\n",
    "brand3=' Mercedes-Benz'\n",
    "score3=sum(data3['Rating\\r'])/data3.shape[0]\n",
    "lst.append([brand3, score3])\n",
    "\n",
    "data4 = pd.read_csv('C:\\\\Users\\\\Ela\\\\Desktop\\\\Cars_review_project\\\\Scraped_Car_Review_jaguar.csv', lineterminator='\\n')\n",
    "brand4='Jaguar'\n",
    "score4=sum(data4['Rating\\r'])/data4.shape[0]\n",
    "lst.append([brand4, score4])"
   ]
  },
  {
   "cell_type": "markdown",
   "metadata": {},
   "source": [
    "## Scores for Reviews\n",
    "\n",
    "In this part of the code, there are two different functions to find the total review score of a brand. First the review function gets every review as a single sentence and checks the words to give the sentence a score based on how positive or negative the words in the review are.\n",
    "\n",
    "The second function called total_score is to find the average review score for a single brand. It checks every review from the dataframes created earlier to calculate an average review score"
   ]
  },
  {
   "cell_type": "code",
   "execution_count": 69,
   "metadata": {},
   "outputs": [],
   "source": [
    "def review_score(liste):\n",
    "    words=[\"love\", \"amazing\", \"happy\", \"great\", \"best\", \"win\", \"powerful\", \"beatiful\"]\n",
    "    negwords=[\"hate\", \"regret\", \"bad\", \"weak\", \"disappointed\", \"sad\"]\n",
    "    scorepos=0\n",
    "    scoreneg=0\n",
    "    for i in liste:\n",
    "        if i in words:\n",
    "            scorepos+=1\n",
    "        elif i in negwords:\n",
    "            scoreneg+=1\n",
    "            \n",
    "    tot= scorepos - scoreneg\n",
    "    return tot\n"
   ]
  },
  {
   "cell_type": "code",
   "execution_count": 70,
   "metadata": {},
   "outputs": [],
   "source": [
    "def total_score(datframe):\n",
    "    rlist=[]\n",
    "    rscore=0\n",
    "    for k in range(len(datframe[\"Review\"])):\n",
    "            bb= datframe[\"Review\"][k].split()\n",
    "            aa = [strings.lower() for strings in bb]\n",
    "            res= review_score(aa)\n",
    "            rscore+=res\n",
    "\n",
    "    return rscore/datframe.shape[0]"
   ]
  },
  {
   "cell_type": "markdown",
   "metadata": {},
   "source": [
    "From this line, the code is about creating a new dataframe which shows the average rating score, average review score and the total score (sum of the 2 different averages) for every brand, in a descending order according to total score."
   ]
  },
  {
   "cell_type": "code",
   "execution_count": 71,
   "metadata": {},
   "outputs": [
    {
     "data": {
      "text/html": [
       "<div>\n",
       "<style scoped>\n",
       "    .dataframe tbody tr th:only-of-type {\n",
       "        vertical-align: middle;\n",
       "    }\n",
       "\n",
       "    .dataframe tbody tr th {\n",
       "        vertical-align: top;\n",
       "    }\n",
       "\n",
       "    .dataframe thead th {\n",
       "        text-align: right;\n",
       "    }\n",
       "</style>\n",
       "<table border=\"1\" class=\"dataframe\">\n",
       "  <thead>\n",
       "    <tr style=\"text-align: right;\">\n",
       "      <th></th>\n",
       "      <th>Brand</th>\n",
       "      <th>Average Rating Score</th>\n",
       "      <th>Average Review Score</th>\n",
       "      <th>Total Score</th>\n",
       "    </tr>\n",
       "  </thead>\n",
       "  <tbody>\n",
       "    <tr>\n",
       "      <td>0</td>\n",
       "      <td>Porsche</td>\n",
       "      <td>4.653237</td>\n",
       "      <td>0.649664</td>\n",
       "      <td>5.302901</td>\n",
       "    </tr>\n",
       "    <tr>\n",
       "      <td>1</td>\n",
       "      <td>Jaguar</td>\n",
       "      <td>4.531482</td>\n",
       "      <td>0.720042</td>\n",
       "      <td>5.251524</td>\n",
       "    </tr>\n",
       "    <tr>\n",
       "      <td>2</td>\n",
       "      <td>Audi</td>\n",
       "      <td>4.467752</td>\n",
       "      <td>0.732914</td>\n",
       "      <td>5.200666</td>\n",
       "    </tr>\n",
       "    <tr>\n",
       "      <td>3</td>\n",
       "      <td>BMW</td>\n",
       "      <td>4.478536</td>\n",
       "      <td>0.697767</td>\n",
       "      <td>5.176303</td>\n",
       "    </tr>\n",
       "    <tr>\n",
       "      <td>4</td>\n",
       "      <td>Mercedes-Benz</td>\n",
       "      <td>4.411153</td>\n",
       "      <td>0.643390</td>\n",
       "      <td>5.054542</td>\n",
       "    </tr>\n",
       "  </tbody>\n",
       "</table>\n",
       "</div>"
      ],
      "text/plain": [
       "            Brand  Average Rating Score  Average Review Score  Total Score\n",
       "0         Porsche              4.653237              0.649664     5.302901\n",
       "1          Jaguar              4.531482              0.720042     5.251524\n",
       "2            Audi              4.467752              0.732914     5.200666\n",
       "3             BMW              4.478536              0.697767     5.176303\n",
       "4   Mercedes-Benz              4.411153              0.643390     5.054542"
      ]
     },
     "execution_count": 71,
     "metadata": {},
     "output_type": "execute_result"
    }
   ],
   "source": [
    "totlist=[total_score(data), total_score(data1), total_score(data2), total_score(data3),total_score(data4)]\n",
    "for i in range(len(lst)):\n",
    "    lst[i].append(totlist[i])\n",
    "    lst[i].append(totlist[i]+lst[i][1])\n",
    "\n",
    "lst.sort(key=lambda x:x[3], reverse= 1)\n",
    "df = pd.DataFrame(lst[0:],columns=['Brand', 'Average Rating Score', 'Average Review Score', 'Total Score'])\n",
    "df"
   ]
  }
 ],
 "metadata": {
  "kernelspec": {
   "display_name": "Python 3",
   "language": "python",
   "name": "python3"
  },
  "language_info": {
   "codemirror_mode": {
    "name": "ipython",
    "version": 3
   },
   "file_extension": ".py",
   "mimetype": "text/x-python",
   "name": "python",
   "nbconvert_exporter": "python",
   "pygments_lexer": "ipython3",
   "version": "3.7.4"
  }
 },
 "nbformat": 4,
 "nbformat_minor": 2
}
